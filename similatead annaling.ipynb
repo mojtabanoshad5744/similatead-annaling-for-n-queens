{
 "cells": [
  {
   "cell_type": "code",
   "execution_count": 11,
   "metadata": {},
   "outputs": [
    {
     "name": "stdout",
     "output_type": "stream",
     "text": [
      "Enter Number of Queens: 5\n"
     ]
    }
   ],
   "source": [
    "import random\n",
    "import math\n",
    "N = int(input(\"Enter Number of Queens: \"))\n",
    "TEMPERATURE = 200000"
   ]
  },
  {
   "cell_type": "code",
   "execution_count": 12,
   "metadata": {
    "scrolled": true
   },
   "outputs": [
    {
     "name": "stdout",
     "output_type": "stream",
     "text": [
      "- - - Q - \n",
      "- Q - - - \n",
      "- - - - Q \n",
      "- - Q - - \n",
      "Q - - - - \n",
      "\n"
     ]
    }
   ],
   "source": [
    "def random_board():\n",
    "    board = list([random.randint(0, N-1) for x in range(N)])\n",
    "    return board\n",
    "\n",
    "\n",
    "def num_of_conflicts(state):\n",
    "    conflicts = 0\n",
    "    for curr_queen in range(N):\n",
    "        for other_queen in range(curr_queen + 1, N):\n",
    "            if state[curr_queen] == state[other_queen]:\n",
    "                conflicts += 1\n",
    "            if abs(state[curr_queen] - state[other_queen]) == (other_queen - curr_queen):\n",
    "                conflicts += 1\n",
    "    return conflicts\n",
    "\n",
    "\n",
    "def simulated_annealing():\n",
    "    solution_found = False\n",
    "    curr_state = random_board()\n",
    "    curr_num_conflicts = num_of_conflicts(curr_state)\n",
    "    t = TEMPERATURE\n",
    "    # cooling rate\n",
    "    sch = 0.99\n",
    "    iterations = 100000\n",
    "\n",
    "    while t > 0 and iterations > 0:\n",
    "        successor = curr_state.copy()\n",
    "        col = random.randint(0, N - 1)\n",
    "        row = random.randint(0, N - 1)\n",
    "        successor[col] = row\n",
    "        successor_conflicts = num_of_conflicts(successor)\n",
    "        delta = successor_conflicts - curr_num_conflicts\n",
    "       \n",
    "        if delta < 0 or random.uniform(0, 1) < math.exp(-delta / t):\n",
    "            curr_state = successor.copy()\n",
    "            curr_num_conflicts = num_of_conflicts(curr_state)\n",
    "            t *= sch\n",
    "            iterations -= 1\n",
    "        if curr_num_conflicts == 0:\n",
    "            solution_found = True\n",
    "            print_board(curr_state)\n",
    "            break\n",
    "    if solution_found is False:\n",
    "        print(\"Failed\")\n",
    "\n",
    "\n",
    "def print_board(board):\n",
    "    for col in range(N):\n",
    "        for row in range(N):\n",
    "            if board[col] == row:\n",
    "                print('Q', end=\" \")\n",
    "            else:\n",
    "                print('-', end=\" \")\n",
    "        print()\n",
    "    print()\n",
    "\n",
    "\n",
    "def main():\n",
    "    simulated_annealing()\n",
    "\n",
    "\n",
    "if __name__ == \"__main__\":\n",
    "        main()"
   ]
  },
  {
   "cell_type": "code",
   "execution_count": null,
   "metadata": {},
   "outputs": [],
   "source": []
  }
 ],
 "metadata": {
  "kernelspec": {
   "display_name": "Python 3",
   "language": "python",
   "name": "python3"
  },
  "language_info": {
   "codemirror_mode": {
    "name": "ipython",
    "version": 3
   },
   "file_extension": ".py",
   "mimetype": "text/x-python",
   "name": "python",
   "nbconvert_exporter": "python",
   "pygments_lexer": "ipython3",
   "version": "3.8.3"
  }
 },
 "nbformat": 4,
 "nbformat_minor": 4
}
